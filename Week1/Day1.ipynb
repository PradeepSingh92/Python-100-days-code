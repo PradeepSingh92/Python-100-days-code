{
 "cells": [
  {
   "cell_type": "markdown",
   "id": "950f3f2d",
   "metadata": {},
   "source": [
    "✅ Topics for Day 1\n",
    "Python Basics: Variables, Input/Output\n",
    "\n",
    "Math Problem: Square and Cube of a number\n",
    "\n",
    "DSA: Linear Search\n",
    "\n",
    "    "
   ]
  },
  {
   "cell_type": "code",
   "execution_count": 8,
   "id": "3305a805",
   "metadata": {},
   "outputs": [
    {
     "name": "stdout",
     "output_type": "stream",
     "text": [
      "Hello , pradeep, your are 30 old\n"
     ]
    }
   ],
   "source": [
    "#➡️ Task: Take name and age as input from user and print a message.\n",
    "\n",
    "#User input \n",
    "\n",
    "name = input(\"Enter your name: \")\n",
    "age = input(\"Enter your age: \")\n",
    "\n",
    "#Output\n",
    "#f string syntax print(f\"Write the message {var_name}, {var_name}\")\n",
    "print(f\"Hello , {name}, your are {age} old\")"
   ]
  },
  {
   "cell_type": "code",
   "execution_count": 11,
   "id": "5900c9c2",
   "metadata": {},
   "outputs": [
    {
     "name": "stdout",
     "output_type": "stream",
     "text": [
      "square of n is  9\n",
      "cube of n is  27.0\n"
     ]
    }
   ],
   "source": [
    "#➡️ Task: Write a program that takes a number N and prints its square and cube.\n",
    "\n",
    "#Input\n",
    "\n",
    "n = int(input(\"Enter the N number\"))\n",
    "\n",
    "\n",
    "#Calculations Method 1 \n",
    "# Square = n ** 2\n",
    "# cube = n ** 3\n",
    "\n",
    "\n",
    "# Method 2\n",
    "#Python has a built-in function pow(base, exponent) Using pow() function\n",
    "# square = pow(n, 2)\n",
    "# cube = pow(n, 3)\n",
    "\n",
    "#Method 3\n",
    "#  A simple way without using powers. Using Multiplication\n",
    "\n",
    "# square = n * n\n",
    "# cube = n * n * n\n",
    "\n",
    "\n",
    "#Method 4\n",
    "#Using Lambda (for practice)  Anonymous functions, good for short operations.\n",
    "# square = (lambda x: x*x)(n)\n",
    "# cube = (lambda x: x*x*x)(n)\n",
    "\n",
    "\n",
    "#Method 5\n",
    "#5. Using Math Library (for advanced cases)\n",
    "import math\n",
    "square = math.pow(n, 2)\n",
    "cube = math.pow(n, 3)\n",
    "\n",
    "#⚠️ math.pow() always returns a float, unlike ** or pow() which can return int if possible.\n",
    "\n",
    "\n",
    "\n",
    "#output\n",
    "\n",
    "print(f\"square of n is  {Square}\")\n",
    "print(f\"cube of n is  {cube}\")\n",
    "\n",
    "\n",
    "# | Method          | Code Example         | Returns `int`? |\n",
    "# | --------------- | -------------------- | -------------- |\n",
    "# | `**` operator   | `n ** 2`             | ✅ Yes          |\n",
    "# | `pow()`         | `pow(n, 2)`          | ✅ Yes          |\n",
    "# | Multiplication  | `n * n`              | ✅ Yes          |\n",
    "# | Lambda Function | `(lambda x: x*x)(n)` | ✅ Yes          |\n",
    "# | `math.pow()`    | `math.pow(n, 2)`     | ❌ No (float)   |\n"
   ]
  },
  {
   "cell_type": "code",
   "execution_count": 4,
   "id": "1c8e30b5",
   "metadata": {},
   "outputs": [
    {
     "name": "stdout",
     "output_type": "stream",
     "text": [
      "Python List: [1, 2, 3, 4]\n",
      "Array Module: array('i', [1, 2, 3, 4])\n",
      "NumPy Array: [1 2 3 4]\n",
      "\n",
      "List multiplied by 2: [2, 4, 6, 8]\n",
      "Array multiplied by 2: array('i', [2, 4, 6, 8])\n",
      "NumPy multiplied by 2: [2 4 6 8]\n"
     ]
    }
   ],
   "source": [
    "#✅ 1. Hands-On Code: list vs array vs NumPy\n",
    "from array import array\n",
    "import numpy as np\n",
    "\n",
    "# Python List (can hold mixed data)\n",
    "py_list = [1, 2, 3, 4]\n",
    "print(\"Python List:\", py_list)\n",
    "\n",
    "# Python Array (only same type)\n",
    "py_array = array('i', [1, 2, 3, 4])  # 'i' for int\n",
    "print(\"Array Module:\", py_array)\n",
    "\n",
    "# NumPy Array\n",
    "np_array = np.array([1, 2, 3, 4])\n",
    "print(\"NumPy Array:\", np_array)\n",
    "\n",
    "# Operation: Multiply every element by 2\n",
    "print(\"\\nList multiplied by 2:\", [x * 2 for x in py_list])\n",
    "print(\"Array multiplied by 2:\", array('i', [x * 2 for x in py_array]))\n",
    "print(\"NumPy multiplied by 2:\", np_array * 2)"
   ]
  },
  {
   "cell_type": "code",
   "execution_count": null,
   "id": "e7c9d6b1",
   "metadata": {},
   "outputs": [
    {
     "name": "stdout",
     "output_type": "stream",
     "text": [
      "List Time: 0.035301923751831055\n",
      "Array Time: 0.05959916114807129\n",
      "NumPy Time: 0.0017881393432617188\n"
     ]
    }
   ],
   "source": [
    "#🕒 2. Performance Benchmark\n",
    "import time\n",
    "from array import array\n",
    "import numpy as np\n",
    "\n",
    "# Data size\n",
    "n = 10**6\n",
    "py_list = list(range(n))\n",
    "py_array = array('i', range(n))\n",
    "np_array = np.arange(n)\n",
    "\n",
    "# Time list\n",
    "start = time.time()\n",
    "py_list = [x * 2 for x in py_list]\n",
    "print(\"List Time:\", time.time() - start)\n",
    "\n",
    "# Time array\n",
    "start = time.time()\n",
    "py_array = array('i', [x * 2 for x in py_array])\n",
    "print(\"Array Time:\", time.time() - start)\n",
    "\n",
    "# Time NumPy\n",
    "start = time.time()\n",
    "np_array = np_array * 2\n",
    "print(\"NumPy Time:\", time.time() - start)\n"
   ]
  },
  {
   "cell_type": "code",
   "execution_count": 7,
   "id": "300c184d",
   "metadata": {},
   "outputs": [
    {
     "name": "stdout",
     "output_type": "stream",
     "text": [
      "found at index 2\n"
     ]
    }
   ],
   "source": [
    "#Linear Search:\n",
    "\n",
    "nums = [2,5,7,1,9]\n",
    "target = 7\n",
    "\n",
    "for i in range(len(nums)):\n",
    "    if nums [i]== target:\n",
    "        print(\"found at index\", i)\n",
    "        break"
   ]
  },
  {
   "cell_type": "code",
   "execution_count": 11,
   "id": "c822f7a5",
   "metadata": {},
   "outputs": [
    {
     "name": "stdout",
     "output_type": "stream",
     "text": [
      "found at index [5]\n"
     ]
    }
   ],
   "source": [
    "#create a list and foud the index of num 8\n",
    "\n",
    "my_list = [1,2,3,4,7,8,9,0]\n",
    "target = 8\n",
    "\n",
    "for i in range(len(my_list)):\n",
    "    if my_list[i] == target:\n",
    "        print(\"found at index\", [i])\n",
    "        break"
   ]
  },
  {
   "cell_type": "code",
   "execution_count": null,
   "id": "3012c6ae",
   "metadata": {},
   "outputs": [
    {
     "name": "stdout",
     "output_type": "stream",
     "text": [
      "Found at indices: [2, 4, 6]\n"
     ]
    }
   ],
   "source": [
    "#⚙️ Medium: Return all indices where a number occurs\n",
    "nums = [1, 3, 7, 8, 7, 5, 7]\n",
    "target = 7\n",
    "indices = []\n",
    "\n",
    "for i in range(len(nums)):\n",
    "    if nums[i] == target:\n",
    "        indices.append(i)\n",
    "\n",
    "print(\"Found at indices:\", indices)"
   ]
  },
  {
   "cell_type": "code",
   "execution_count": 13,
   "id": "eb02f17c",
   "metadata": {},
   "outputs": [
    {
     "name": "stdout",
     "output_type": "stream",
     "text": [
      "Student found: {'name': 'Bob', 'roll': 2}\n"
     ]
    }
   ],
   "source": [
    "#🚀 Advanced: Linear search in a list of dictionaries\n",
    "students = [\n",
    "    {\"name\": \"Alice\", \"roll\": 1},\n",
    "    {\"name\": \"Bob\", \"roll\": 2},\n",
    "    {\"name\": \"Charlie\", \"roll\": 3}\n",
    "]\n",
    "\n",
    "target_roll = 2\n",
    "found = False\n",
    "\n",
    "for student in students:\n",
    "    if student[\"roll\"] == target_roll:\n",
    "        print(\"Student found:\", student)\n",
    "        found = True\n",
    "        break\n",
    "\n",
    "if not found:\n",
    "    print(\"Student not found.\")\n"
   ]
  }
 ],
 "metadata": {
  "kernelspec": {
   "display_name": ".venv (3.9.6)",
   "language": "python",
   "name": "python3"
  },
  "language_info": {
   "codemirror_mode": {
    "name": "ipython",
    "version": 3
   },
   "file_extension": ".py",
   "mimetype": "text/x-python",
   "name": "python",
   "nbconvert_exporter": "python",
   "pygments_lexer": "ipython3",
   "version": "3.9.6"
  }
 },
 "nbformat": 4,
 "nbformat_minor": 5
}
