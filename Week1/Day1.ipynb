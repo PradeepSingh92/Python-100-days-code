{
 "cells": [
  {
   "cell_type": "markdown",
   "id": "950f3f2d",
   "metadata": {},
   "source": [
    "✅ Topics for Day 1\n",
    "Python Basics: Variables, Input/Output\n",
    "\n",
    "Math Problem: Square and Cube of a number\n",
    "\n",
    "DSA: Linear Search\n",
    "\n",
    "    "
   ]
  },
  {
   "cell_type": "code",
   "execution_count": 4,
   "id": "3305a805",
   "metadata": {},
   "outputs": [
    {
     "name": "stdout",
     "output_type": "stream",
     "text": [
      "Hello , Pradeep, your are 34 old\n"
     ]
    }
   ],
   "source": [
    "#➡️ Task: Take name and age as input from user and print a message.\n",
    "\n",
    "#User input \n",
    "\n",
    "name = input(\"Enter your name: \")\n",
    "age = input(\"Enter your age: \")\n",
    "\n",
    "#Output\n",
    "#f string syntax print(f\"Write the message {var_name}, {var_name}\")\n",
    "print(f\"Hello , {name}, your are {age} old\")"
   ]
  },
  {
   "cell_type": "code",
   "execution_count": 11,
   "id": "5900c9c2",
   "metadata": {},
   "outputs": [
    {
     "name": "stdout",
     "output_type": "stream",
     "text": [
      "square of n is  9\n",
      "cube of n is  27.0\n"
     ]
    }
   ],
   "source": [
    "#➡️ Task: Write a program that takes a number N and prints its square and cube.\n",
    "\n",
    "#Input\n",
    "\n",
    "n = int(input(\"Enter the N number\"))\n",
    "\n",
    "\n",
    "#Calculations Method 1 \n",
    "# Square = n ** 2\n",
    "# cube = n ** 3\n",
    "\n",
    "\n",
    "# Method 2\n",
    "#Python has a built-in function pow(base, exponent) Using pow() function\n",
    "# square = pow(n, 2)\n",
    "# cube = pow(n, 3)\n",
    "\n",
    "#Method 3\n",
    "#  A simple way without using powers. Using Multiplication\n",
    "\n",
    "# square = n * n\n",
    "# cube = n * n * n\n",
    "\n",
    "\n",
    "#Method 4\n",
    "#Using Lambda (for practice)  Anonymous functions, good for short operations.\n",
    "# square = (lambda x: x*x)(n)\n",
    "# cube = (lambda x: x*x*x)(n)\n",
    "\n",
    "\n",
    "#Method 5\n",
    "#5. Using Math Library (for advanced cases)\n",
    "import math\n",
    "square = math.pow(n, 2)\n",
    "cube = math.pow(n, 3)\n",
    "\n",
    "#⚠️ math.pow() always returns a float, unlike ** or pow() which can return int if possible.\n",
    "\n",
    "\n",
    "\n",
    "#output\n",
    "\n",
    "print(f\"square of n is  {Square}\")\n",
    "print(f\"cube of n is  {cube}\")\n",
    "\n",
    "\n",
    "# | Method          | Code Example         | Returns `int`? |\n",
    "# | --------------- | -------------------- | -------------- |\n",
    "# | `**` operator   | `n ** 2`             | ✅ Yes          |\n",
    "# | `pow()`         | `pow(n, 2)`          | ✅ Yes          |\n",
    "# | Multiplication  | `n * n`              | ✅ Yes          |\n",
    "# | Lambda Function | `(lambda x: x*x)(n)` | ✅ Yes          |\n",
    "# | `math.pow()`    | `math.pow(n, 2)`     | ❌ No (float)   |\n",
    "\n",
    "\n",
    "\n",
    "\n"
   ]
  }
 ],
 "metadata": {
  "kernelspec": {
   "display_name": "Python 3",
   "language": "python",
   "name": "python3"
  },
  "language_info": {
   "codemirror_mode": {
    "name": "ipython",
    "version": 3
   },
   "file_extension": ".py",
   "mimetype": "text/x-python",
   "name": "python",
   "nbconvert_exporter": "python",
   "pygments_lexer": "ipython3",
   "version": "3.9.6"
  }
 },
 "nbformat": 4,
 "nbformat_minor": 5
}
